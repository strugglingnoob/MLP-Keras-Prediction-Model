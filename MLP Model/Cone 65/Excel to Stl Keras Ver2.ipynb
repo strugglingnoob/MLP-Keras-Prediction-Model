{
 "cells": [
  {
   "cell_type": "code",
   "execution_count": 1,
   "id": "3905cf2e-5684-41b9-ac9e-4d04e32f2107",
   "metadata": {},
   "outputs": [
    {
     "name": "stdout",
     "output_type": "stream",
     "text": [
      "✅ New ASCII STL written to:\n",
      "   C:\\Users\\ayush\\OneDrive\\Desktop\\bphc\\Year 3 Sem 2\\DOP\\Lab Work\\Models\\Outside Only\\Final DataSet\\MLP Keras Version FInal DataSet Ver1\\Cone 65\\Cone 65 Keras Model excel to stl Ver2.stl\n"
     ]
    }
   ],
   "source": [
    "import numpy as np\n",
    "import pandas as pd\n",
    "from stl import mesh, Mode\n",
    "from scipy.spatial import cKDTree\n",
    "\n",
    "# ─── Paths ─────────────────────────────────────────────────────────────────────\n",
    "orig_stl   = r\"C:\\Users\\ayush\\OneDrive\\Desktop\\bphc\\Year 3 Sem 2\\DOP\\Lab Work\\Models\\Outside Only\\Final DataSet\\MLP Keras Version FInal DataSet Ver1\\Cone 65\\COne-65-deg_stl_3.stl\"\n",
    "pred_excel = r\"C:\\Users\\ayush\\OneDrive\\Desktop\\bphc\\Year 3 Sem 2\\DOP\\Lab Work\\Models\\Outside Only\\Final DataSet\\MLP Keras Version FInal DataSet Ver1\\Cone 65\\Cone 65 Final X,Y,Zscan Keras Results.xlsx\"\n",
    "output_stl = r\"C:\\Users\\ayush\\OneDrive\\Desktop\\bphc\\Year 3 Sem 2\\DOP\\Lab Work\\Models\\Outside Only\\Final DataSet\\MLP Keras Version FInal DataSet Ver1\\Cone 65\\Cone 65 Keras Model excel to stl Ver2.stl\"\n",
    "\n",
    "# ─── 1) Load the original STL mesh ─────────────────────────────────────────────\n",
    "m = mesh.Mesh.from_file(orig_stl)\n",
    "\n",
    "# ─── 2) Read your predictions Excel ────────────────────────────────────────────\n",
    "df = pd.read_excel(pred_excel)\n",
    "# Build the KD-tree in full 3D (X, Y, Z_predicted)\n",
    "pts_xyz = df[['X','Y','Z Scan (Predicted)']].values\n",
    "z_pred  = df['Z Scan (Predicted)'].values\n",
    "\n",
    "tree = cKDTree(pts_xyz)\n",
    "\n",
    "# ─── 3) Flatten mesh vertices and find 3D nearest neighbors ───────────────────\n",
    "all_verts = m.vectors.reshape(-1, 3)           # shape (n_vertices, 3)\n",
    "_, idxs   = tree.query(all_verts)              # nearest in (X,Y,Z) space\n",
    "\n",
    "# Overwrite each vertex's Z with the predicted Z\n",
    "all_verts[:, 2] = z_pred[idxs]\n",
    "\n",
    "# Put the modified vertices back into the mesh object\n",
    "m.vectors = all_verts.reshape(-1, 3, 3)\n",
    "\n",
    "# ─── 4) Save as ASCII STL ─────────────────────────────────────────────────────\n",
    "m.save(output_stl, mode=Mode.ASCII)\n",
    "print(f\"✅ New ASCII STL written to:\\n   {output_stl}\")\n"
   ]
  },
  {
   "cell_type": "code",
   "execution_count": null,
   "id": "c1083120-e9fc-4582-b952-9f1849083a3d",
   "metadata": {},
   "outputs": [],
   "source": []
  }
 ],
 "metadata": {
  "kernelspec": {
   "display_name": "Python [conda env:base] *",
   "language": "python",
   "name": "conda-base-py"
  },
  "language_info": {
   "codemirror_mode": {
    "name": "ipython",
    "version": 3
   },
   "file_extension": ".py",
   "mimetype": "text/x-python",
   "name": "python",
   "nbconvert_exporter": "python",
   "pygments_lexer": "ipython3",
   "version": "3.12.4"
  }
 },
 "nbformat": 4,
 "nbformat_minor": 5
}
