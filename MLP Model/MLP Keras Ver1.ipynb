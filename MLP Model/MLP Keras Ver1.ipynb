{
 "cells": [
  {
   "cell_type": "code",
   "execution_count": 1,
   "id": "bbcd290a-ebde-46d3-bd97-be7b828cc356",
   "metadata": {},
   "outputs": [
    {
     "name": "stderr",
     "output_type": "stream",
     "text": [
      "C:\\Users\\ayush\\anaconda3\\envs\\tf310\\lib\\site-packages\\keras\\src\\layers\\core\\dense.py:87: UserWarning: Do not pass an `input_shape`/`input_dim` argument to a layer. When using Sequential models, prefer using an `Input(shape)` object as the first layer in the model instead.\n",
      "  super().__init__(activity_regularizer=activity_regularizer, **kwargs)\n",
      "C:\\Users\\ayush\\anaconda3\\envs\\tf310\\lib\\site-packages\\keras\\src\\layers\\activations\\leaky_relu.py:41: UserWarning: Argument `alpha` is deprecated. Use `negative_slope` instead.\n",
      "  warnings.warn(\n"
     ]
    },
    {
     "data": {
      "text/html": [
       "<pre style=\"white-space:pre;overflow-x:auto;line-height:normal;font-family:Menlo,'DejaVu Sans Mono',consolas,'Courier New',monospace\"><span style=\"font-weight: bold\">Model: \"sequential\"</span>\n",
       "</pre>\n"
      ],
      "text/plain": [
       "\u001b[1mModel: \"sequential\"\u001b[0m\n"
      ]
     },
     "metadata": {},
     "output_type": "display_data"
    },
    {
     "data": {
      "text/html": [
       "<pre style=\"white-space:pre;overflow-x:auto;line-height:normal;font-family:Menlo,'DejaVu Sans Mono',consolas,'Courier New',monospace\">┏━━━━━━━━━━━━━━━━━━━━━━━━━━━━━━━━━━━━━━┳━━━━━━━━━━━━━━━━━━━━━━━━━━━━━┳━━━━━━━━━━━━━━━━━┓\n",
       "┃<span style=\"font-weight: bold\"> Layer (type)                         </span>┃<span style=\"font-weight: bold\"> Output Shape                </span>┃<span style=\"font-weight: bold\">         Param # </span>┃\n",
       "┡━━━━━━━━━━━━━━━━━━━━━━━━━━━━━━━━━━━━━━╇━━━━━━━━━━━━━━━━━━━━━━━━━━━━━╇━━━━━━━━━━━━━━━━━┩\n",
       "│ dense (<span style=\"color: #0087ff; text-decoration-color: #0087ff\">Dense</span>)                        │ (<span style=\"color: #00d7ff; text-decoration-color: #00d7ff\">None</span>, <span style=\"color: #00af00; text-decoration-color: #00af00\">64</span>)                  │             <span style=\"color: #00af00; text-decoration-color: #00af00\">704</span> │\n",
       "├──────────────────────────────────────┼─────────────────────────────┼─────────────────┤\n",
       "│ leaky_re_lu (<span style=\"color: #0087ff; text-decoration-color: #0087ff\">LeakyReLU</span>)              │ (<span style=\"color: #00d7ff; text-decoration-color: #00d7ff\">None</span>, <span style=\"color: #00af00; text-decoration-color: #00af00\">64</span>)                  │               <span style=\"color: #00af00; text-decoration-color: #00af00\">0</span> │\n",
       "├──────────────────────────────────────┼─────────────────────────────┼─────────────────┤\n",
       "│ batch_normalization                  │ (<span style=\"color: #00d7ff; text-decoration-color: #00d7ff\">None</span>, <span style=\"color: #00af00; text-decoration-color: #00af00\">64</span>)                  │             <span style=\"color: #00af00; text-decoration-color: #00af00\">256</span> │\n",
       "│ (<span style=\"color: #0087ff; text-decoration-color: #0087ff\">BatchNormalization</span>)                 │                             │                 │\n",
       "├──────────────────────────────────────┼─────────────────────────────┼─────────────────┤\n",
       "│ dropout (<span style=\"color: #0087ff; text-decoration-color: #0087ff\">Dropout</span>)                    │ (<span style=\"color: #00d7ff; text-decoration-color: #00d7ff\">None</span>, <span style=\"color: #00af00; text-decoration-color: #00af00\">64</span>)                  │               <span style=\"color: #00af00; text-decoration-color: #00af00\">0</span> │\n",
       "├──────────────────────────────────────┼─────────────────────────────┼─────────────────┤\n",
       "│ dense_1 (<span style=\"color: #0087ff; text-decoration-color: #0087ff\">Dense</span>)                      │ (<span style=\"color: #00d7ff; text-decoration-color: #00d7ff\">None</span>, <span style=\"color: #00af00; text-decoration-color: #00af00\">32</span>)                  │           <span style=\"color: #00af00; text-decoration-color: #00af00\">2,080</span> │\n",
       "├──────────────────────────────────────┼─────────────────────────────┼─────────────────┤\n",
       "│ leaky_re_lu_1 (<span style=\"color: #0087ff; text-decoration-color: #0087ff\">LeakyReLU</span>)            │ (<span style=\"color: #00d7ff; text-decoration-color: #00d7ff\">None</span>, <span style=\"color: #00af00; text-decoration-color: #00af00\">32</span>)                  │               <span style=\"color: #00af00; text-decoration-color: #00af00\">0</span> │\n",
       "├──────────────────────────────────────┼─────────────────────────────┼─────────────────┤\n",
       "│ batch_normalization_1                │ (<span style=\"color: #00d7ff; text-decoration-color: #00d7ff\">None</span>, <span style=\"color: #00af00; text-decoration-color: #00af00\">32</span>)                  │             <span style=\"color: #00af00; text-decoration-color: #00af00\">128</span> │\n",
       "│ (<span style=\"color: #0087ff; text-decoration-color: #0087ff\">BatchNormalization</span>)                 │                             │                 │\n",
       "├──────────────────────────────────────┼─────────────────────────────┼─────────────────┤\n",
       "│ dropout_1 (<span style=\"color: #0087ff; text-decoration-color: #0087ff\">Dropout</span>)                  │ (<span style=\"color: #00d7ff; text-decoration-color: #00d7ff\">None</span>, <span style=\"color: #00af00; text-decoration-color: #00af00\">32</span>)                  │               <span style=\"color: #00af00; text-decoration-color: #00af00\">0</span> │\n",
       "├──────────────────────────────────────┼─────────────────────────────┼─────────────────┤\n",
       "│ dense_2 (<span style=\"color: #0087ff; text-decoration-color: #0087ff\">Dense</span>)                      │ (<span style=\"color: #00d7ff; text-decoration-color: #00d7ff\">None</span>, <span style=\"color: #00af00; text-decoration-color: #00af00\">16</span>)                  │             <span style=\"color: #00af00; text-decoration-color: #00af00\">528</span> │\n",
       "├──────────────────────────────────────┼─────────────────────────────┼─────────────────┤\n",
       "│ leaky_re_lu_2 (<span style=\"color: #0087ff; text-decoration-color: #0087ff\">LeakyReLU</span>)            │ (<span style=\"color: #00d7ff; text-decoration-color: #00d7ff\">None</span>, <span style=\"color: #00af00; text-decoration-color: #00af00\">16</span>)                  │               <span style=\"color: #00af00; text-decoration-color: #00af00\">0</span> │\n",
       "├──────────────────────────────────────┼─────────────────────────────┼─────────────────┤\n",
       "│ batch_normalization_2                │ (<span style=\"color: #00d7ff; text-decoration-color: #00d7ff\">None</span>, <span style=\"color: #00af00; text-decoration-color: #00af00\">16</span>)                  │              <span style=\"color: #00af00; text-decoration-color: #00af00\">64</span> │\n",
       "│ (<span style=\"color: #0087ff; text-decoration-color: #0087ff\">BatchNormalization</span>)                 │                             │                 │\n",
       "├──────────────────────────────────────┼─────────────────────────────┼─────────────────┤\n",
       "│ dropout_2 (<span style=\"color: #0087ff; text-decoration-color: #0087ff\">Dropout</span>)                  │ (<span style=\"color: #00d7ff; text-decoration-color: #00d7ff\">None</span>, <span style=\"color: #00af00; text-decoration-color: #00af00\">16</span>)                  │               <span style=\"color: #00af00; text-decoration-color: #00af00\">0</span> │\n",
       "├──────────────────────────────────────┼─────────────────────────────┼─────────────────┤\n",
       "│ dense_3 (<span style=\"color: #0087ff; text-decoration-color: #0087ff\">Dense</span>)                      │ (<span style=\"color: #00d7ff; text-decoration-color: #00d7ff\">None</span>, <span style=\"color: #00af00; text-decoration-color: #00af00\">1</span>)                   │              <span style=\"color: #00af00; text-decoration-color: #00af00\">17</span> │\n",
       "└──────────────────────────────────────┴─────────────────────────────┴─────────────────┘\n",
       "</pre>\n"
      ],
      "text/plain": [
       "┏━━━━━━━━━━━━━━━━━━━━━━━━━━━━━━━━━━━━━━┳━━━━━━━━━━━━━━━━━━━━━━━━━━━━━┳━━━━━━━━━━━━━━━━━┓\n",
       "┃\u001b[1m \u001b[0m\u001b[1mLayer (type)                        \u001b[0m\u001b[1m \u001b[0m┃\u001b[1m \u001b[0m\u001b[1mOutput Shape               \u001b[0m\u001b[1m \u001b[0m┃\u001b[1m \u001b[0m\u001b[1m        Param #\u001b[0m\u001b[1m \u001b[0m┃\n",
       "┡━━━━━━━━━━━━━━━━━━━━━━━━━━━━━━━━━━━━━━╇━━━━━━━━━━━━━━━━━━━━━━━━━━━━━╇━━━━━━━━━━━━━━━━━┩\n",
       "│ dense (\u001b[38;5;33mDense\u001b[0m)                        │ (\u001b[38;5;45mNone\u001b[0m, \u001b[38;5;34m64\u001b[0m)                  │             \u001b[38;5;34m704\u001b[0m │\n",
       "├──────────────────────────────────────┼─────────────────────────────┼─────────────────┤\n",
       "│ leaky_re_lu (\u001b[38;5;33mLeakyReLU\u001b[0m)              │ (\u001b[38;5;45mNone\u001b[0m, \u001b[38;5;34m64\u001b[0m)                  │               \u001b[38;5;34m0\u001b[0m │\n",
       "├──────────────────────────────────────┼─────────────────────────────┼─────────────────┤\n",
       "│ batch_normalization                  │ (\u001b[38;5;45mNone\u001b[0m, \u001b[38;5;34m64\u001b[0m)                  │             \u001b[38;5;34m256\u001b[0m │\n",
       "│ (\u001b[38;5;33mBatchNormalization\u001b[0m)                 │                             │                 │\n",
       "├──────────────────────────────────────┼─────────────────────────────┼─────────────────┤\n",
       "│ dropout (\u001b[38;5;33mDropout\u001b[0m)                    │ (\u001b[38;5;45mNone\u001b[0m, \u001b[38;5;34m64\u001b[0m)                  │               \u001b[38;5;34m0\u001b[0m │\n",
       "├──────────────────────────────────────┼─────────────────────────────┼─────────────────┤\n",
       "│ dense_1 (\u001b[38;5;33mDense\u001b[0m)                      │ (\u001b[38;5;45mNone\u001b[0m, \u001b[38;5;34m32\u001b[0m)                  │           \u001b[38;5;34m2,080\u001b[0m │\n",
       "├──────────────────────────────────────┼─────────────────────────────┼─────────────────┤\n",
       "│ leaky_re_lu_1 (\u001b[38;5;33mLeakyReLU\u001b[0m)            │ (\u001b[38;5;45mNone\u001b[0m, \u001b[38;5;34m32\u001b[0m)                  │               \u001b[38;5;34m0\u001b[0m │\n",
       "├──────────────────────────────────────┼─────────────────────────────┼─────────────────┤\n",
       "│ batch_normalization_1                │ (\u001b[38;5;45mNone\u001b[0m, \u001b[38;5;34m32\u001b[0m)                  │             \u001b[38;5;34m128\u001b[0m │\n",
       "│ (\u001b[38;5;33mBatchNormalization\u001b[0m)                 │                             │                 │\n",
       "├──────────────────────────────────────┼─────────────────────────────┼─────────────────┤\n",
       "│ dropout_1 (\u001b[38;5;33mDropout\u001b[0m)                  │ (\u001b[38;5;45mNone\u001b[0m, \u001b[38;5;34m32\u001b[0m)                  │               \u001b[38;5;34m0\u001b[0m │\n",
       "├──────────────────────────────────────┼─────────────────────────────┼─────────────────┤\n",
       "│ dense_2 (\u001b[38;5;33mDense\u001b[0m)                      │ (\u001b[38;5;45mNone\u001b[0m, \u001b[38;5;34m16\u001b[0m)                  │             \u001b[38;5;34m528\u001b[0m │\n",
       "├──────────────────────────────────────┼─────────────────────────────┼─────────────────┤\n",
       "│ leaky_re_lu_2 (\u001b[38;5;33mLeakyReLU\u001b[0m)            │ (\u001b[38;5;45mNone\u001b[0m, \u001b[38;5;34m16\u001b[0m)                  │               \u001b[38;5;34m0\u001b[0m │\n",
       "├──────────────────────────────────────┼─────────────────────────────┼─────────────────┤\n",
       "│ batch_normalization_2                │ (\u001b[38;5;45mNone\u001b[0m, \u001b[38;5;34m16\u001b[0m)                  │              \u001b[38;5;34m64\u001b[0m │\n",
       "│ (\u001b[38;5;33mBatchNormalization\u001b[0m)                 │                             │                 │\n",
       "├──────────────────────────────────────┼─────────────────────────────┼─────────────────┤\n",
       "│ dropout_2 (\u001b[38;5;33mDropout\u001b[0m)                  │ (\u001b[38;5;45mNone\u001b[0m, \u001b[38;5;34m16\u001b[0m)                  │               \u001b[38;5;34m0\u001b[0m │\n",
       "├──────────────────────────────────────┼─────────────────────────────┼─────────────────┤\n",
       "│ dense_3 (\u001b[38;5;33mDense\u001b[0m)                      │ (\u001b[38;5;45mNone\u001b[0m, \u001b[38;5;34m1\u001b[0m)                   │              \u001b[38;5;34m17\u001b[0m │\n",
       "└──────────────────────────────────────┴─────────────────────────────┴─────────────────┘\n"
      ]
     },
     "metadata": {},
     "output_type": "display_data"
    },
    {
     "data": {
      "text/html": [
       "<pre style=\"white-space:pre;overflow-x:auto;line-height:normal;font-family:Menlo,'DejaVu Sans Mono',consolas,'Courier New',monospace\"><span style=\"font-weight: bold\"> Total params: </span><span style=\"color: #00af00; text-decoration-color: #00af00\">3,777</span> (14.75 KB)\n",
       "</pre>\n"
      ],
      "text/plain": [
       "\u001b[1m Total params: \u001b[0m\u001b[38;5;34m3,777\u001b[0m (14.75 KB)\n"
      ]
     },
     "metadata": {},
     "output_type": "display_data"
    },
    {
     "data": {
      "text/html": [
       "<pre style=\"white-space:pre;overflow-x:auto;line-height:normal;font-family:Menlo,'DejaVu Sans Mono',consolas,'Courier New',monospace\"><span style=\"font-weight: bold\"> Trainable params: </span><span style=\"color: #00af00; text-decoration-color: #00af00\">3,553</span> (13.88 KB)\n",
       "</pre>\n"
      ],
      "text/plain": [
       "\u001b[1m Trainable params: \u001b[0m\u001b[38;5;34m3,553\u001b[0m (13.88 KB)\n"
      ]
     },
     "metadata": {},
     "output_type": "display_data"
    },
    {
     "data": {
      "text/html": [
       "<pre style=\"white-space:pre;overflow-x:auto;line-height:normal;font-family:Menlo,'DejaVu Sans Mono',consolas,'Courier New',monospace\"><span style=\"font-weight: bold\"> Non-trainable params: </span><span style=\"color: #00af00; text-decoration-color: #00af00\">224</span> (896.00 B)\n",
       "</pre>\n"
      ],
      "text/plain": [
       "\u001b[1m Non-trainable params: \u001b[0m\u001b[38;5;34m224\u001b[0m (896.00 B)\n"
      ]
     },
     "metadata": {},
     "output_type": "display_data"
    },
    {
     "name": "stdout",
     "output_type": "stream",
     "text": [
      "Epoch 1/200\n"
     ]
    },
    {
     "name": "stderr",
     "output_type": "stream",
     "text": [
      "WARNING:absl:You are saving your model as an HDF5 file via `model.save()` or `keras.saving.save_model(model)`. This file format is considered legacy. We recommend using instead the native Keras format, e.g. `model.save('my_model.keras')` or `keras.saving.save_model(model, 'my_model.keras')`. \n"
     ]
    },
    {
     "name": "stdout",
     "output_type": "stream",
     "text": [
      "242/242 - 10s - 42ms/step - loss: 0.3395 - mae: 0.4155 - val_loss: 0.0705 - val_mae: 0.2219 - learning_rate: 1.0000e-03\n",
      "Epoch 2/200\n"
     ]
    },
    {
     "name": "stderr",
     "output_type": "stream",
     "text": [
      "WARNING:absl:You are saving your model as an HDF5 file via `model.save()` or `keras.saving.save_model(model)`. This file format is considered legacy. We recommend using instead the native Keras format, e.g. `model.save('my_model.keras')` or `keras.saving.save_model(model, 'my_model.keras')`. \n"
     ]
    },
    {
     "name": "stdout",
     "output_type": "stream",
     "text": [
      "242/242 - 4s - 15ms/step - loss: 0.1235 - mae: 0.2573 - val_loss: 0.0028 - val_mae: 0.0411 - learning_rate: 1.0000e-03\n",
      "Epoch 3/200\n",
      "242/242 - 6s - 23ms/step - loss: 0.0714 - mae: 0.1968 - val_loss: 0.0032 - val_mae: 0.0445 - learning_rate: 1.0000e-03\n",
      "Epoch 4/200\n"
     ]
    },
    {
     "name": "stderr",
     "output_type": "stream",
     "text": [
      "WARNING:absl:You are saving your model as an HDF5 file via `model.save()` or `keras.saving.save_model(model)`. This file format is considered legacy. We recommend using instead the native Keras format, e.g. `model.save('my_model.keras')` or `keras.saving.save_model(model, 'my_model.keras')`. \n"
     ]
    },
    {
     "name": "stdout",
     "output_type": "stream",
     "text": [
      "242/242 - 3s - 13ms/step - loss: 0.0473 - mae: 0.1623 - val_loss: 0.0022 - val_mae: 0.0369 - learning_rate: 1.0000e-03\n",
      "Epoch 5/200\n"
     ]
    },
    {
     "name": "stderr",
     "output_type": "stream",
     "text": [
      "WARNING:absl:You are saving your model as an HDF5 file via `model.save()` or `keras.saving.save_model(model)`. This file format is considered legacy. We recommend using instead the native Keras format, e.g. `model.save('my_model.keras')` or `keras.saving.save_model(model, 'my_model.keras')`. \n"
     ]
    },
    {
     "name": "stdout",
     "output_type": "stream",
     "text": [
      "242/242 - 4s - 17ms/step - loss: 0.0347 - mae: 0.1400 - val_loss: 0.0013 - val_mae: 0.0281 - learning_rate: 1.0000e-03\n",
      "Epoch 6/200\n"
     ]
    },
    {
     "name": "stderr",
     "output_type": "stream",
     "text": [
      "WARNING:absl:You are saving your model as an HDF5 file via `model.save()` or `keras.saving.save_model(model)`. This file format is considered legacy. We recommend using instead the native Keras format, e.g. `model.save('my_model.keras')` or `keras.saving.save_model(model, 'my_model.keras')`. \n"
     ]
    },
    {
     "name": "stdout",
     "output_type": "stream",
     "text": [
      "242/242 - 4s - 15ms/step - loss: 0.0281 - mae: 0.1265 - val_loss: 0.0012 - val_mae: 0.0270 - learning_rate: 1.0000e-03\n",
      "Epoch 7/200\n"
     ]
    },
    {
     "name": "stderr",
     "output_type": "stream",
     "text": [
      "WARNING:absl:You are saving your model as an HDF5 file via `model.save()` or `keras.saving.save_model(model)`. This file format is considered legacy. We recommend using instead the native Keras format, e.g. `model.save('my_model.keras')` or `keras.saving.save_model(model, 'my_model.keras')`. \n"
     ]
    },
    {
     "name": "stdout",
     "output_type": "stream",
     "text": [
      "242/242 - 5s - 19ms/step - loss: 0.0241 - mae: 0.1172 - val_loss: 8.6456e-04 - val_mae: 0.0238 - learning_rate: 1.0000e-03\n",
      "Epoch 8/200\n"
     ]
    },
    {
     "name": "stderr",
     "output_type": "stream",
     "text": [
      "WARNING:absl:You are saving your model as an HDF5 file via `model.save()` or `keras.saving.save_model(model)`. This file format is considered legacy. We recommend using instead the native Keras format, e.g. `model.save('my_model.keras')` or `keras.saving.save_model(model, 'my_model.keras')`. \n"
     ]
    },
    {
     "name": "stdout",
     "output_type": "stream",
     "text": [
      "242/242 - 3s - 13ms/step - loss: 0.0216 - mae: 0.1105 - val_loss: 6.8376e-04 - val_mae: 0.0202 - learning_rate: 1.0000e-03\n",
      "Epoch 9/200\n",
      "242/242 - 4s - 15ms/step - loss: 0.0201 - mae: 0.1069 - val_loss: 7.4658e-04 - val_mae: 0.0219 - learning_rate: 1.0000e-03\n",
      "Epoch 10/200\n"
     ]
    },
    {
     "name": "stderr",
     "output_type": "stream",
     "text": [
      "WARNING:absl:You are saving your model as an HDF5 file via `model.save()` or `keras.saving.save_model(model)`. This file format is considered legacy. We recommend using instead the native Keras format, e.g. `model.save('my_model.keras')` or `keras.saving.save_model(model, 'my_model.keras')`. \n"
     ]
    },
    {
     "name": "stdout",
     "output_type": "stream",
     "text": [
      "242/242 - 3s - 12ms/step - loss: 0.0190 - mae: 0.1039 - val_loss: 5.6235e-04 - val_mae: 0.0186 - learning_rate: 1.0000e-03\n",
      "Epoch 11/200\n"
     ]
    },
    {
     "name": "stderr",
     "output_type": "stream",
     "text": [
      "WARNING:absl:You are saving your model as an HDF5 file via `model.save()` or `keras.saving.save_model(model)`. This file format is considered legacy. We recommend using instead the native Keras format, e.g. `model.save('my_model.keras')` or `keras.saving.save_model(model, 'my_model.keras')`. \n"
     ]
    },
    {
     "name": "stdout",
     "output_type": "stream",
     "text": [
      "242/242 - 3s - 13ms/step - loss: 0.0182 - mae: 0.1018 - val_loss: 5.0717e-04 - val_mae: 0.0174 - learning_rate: 1.0000e-03\n",
      "Epoch 12/200\n",
      "242/242 - 3s - 12ms/step - loss: 0.0177 - mae: 0.1004 - val_loss: 5.6328e-04 - val_mae: 0.0183 - learning_rate: 1.0000e-03\n",
      "Epoch 13/200\n",
      "242/242 - 3s - 12ms/step - loss: 0.0171 - mae: 0.0985 - val_loss: 7.7971e-04 - val_mae: 0.0221 - learning_rate: 1.0000e-03\n",
      "Epoch 14/200\n",
      "242/242 - 3s - 13ms/step - loss: 0.0165 - mae: 0.0967 - val_loss: 5.7189e-04 - val_mae: 0.0191 - learning_rate: 1.0000e-03\n",
      "Epoch 15/200\n",
      "242/242 - 4s - 15ms/step - loss: 0.0161 - mae: 0.0953 - val_loss: 0.0011 - val_mae: 0.0261 - learning_rate: 1.0000e-03\n",
      "Epoch 16/200\n",
      "242/242 - 3s - 12ms/step - loss: 0.0158 - mae: 0.0946 - val_loss: 0.0010 - val_mae: 0.0245 - learning_rate: 1.0000e-03\n",
      "Epoch 17/200\n",
      "242/242 - 5s - 21ms/step - loss: 0.0156 - mae: 0.0938 - val_loss: 7.0452e-04 - val_mae: 0.0210 - learning_rate: 1.0000e-03\n",
      "Epoch 18/200\n",
      "242/242 - 3s - 11ms/step - loss: 0.0151 - mae: 0.0924 - val_loss: 0.0013 - val_mae: 0.0295 - learning_rate: 1.0000e-03\n",
      "Epoch 19/200\n",
      "242/242 - 4s - 15ms/step - loss: 0.0146 - mae: 0.0908 - val_loss: 0.0014 - val_mae: 0.0282 - learning_rate: 1.0000e-03\n",
      "Epoch 20/200\n",
      "242/242 - 3s - 13ms/step - loss: 0.0141 - mae: 0.0889 - val_loss: 0.0014 - val_mae: 0.0291 - learning_rate: 1.0000e-03\n",
      "Epoch 21/200\n"
     ]
    },
    {
     "name": "stderr",
     "output_type": "stream",
     "text": [
      "WARNING:absl:You are saving your model as an HDF5 file via `model.save()` or `keras.saving.save_model(model)`. This file format is considered legacy. We recommend using instead the native Keras format, e.g. `model.save('my_model.keras')` or `keras.saving.save_model(model, 'my_model.keras')`. \n"
     ]
    },
    {
     "name": "stdout",
     "output_type": "stream",
     "text": [
      "242/242 - 3s - 12ms/step - loss: 0.0138 - mae: 0.0879 - val_loss: 4.9085e-04 - val_mae: 0.0170 - learning_rate: 5.0000e-04\n",
      "Epoch 22/200\n",
      "242/242 - 3s - 13ms/step - loss: 0.0136 - mae: 0.0875 - val_loss: 5.1691e-04 - val_mae: 0.0170 - learning_rate: 5.0000e-04\n",
      "Epoch 23/200\n",
      "242/242 - 3s - 12ms/step - loss: 0.0132 - mae: 0.0858 - val_loss: 4.9185e-04 - val_mae: 0.0158 - learning_rate: 5.0000e-04\n",
      "Epoch 24/200\n",
      "242/242 - 5s - 22ms/step - loss: 0.0131 - mae: 0.0856 - val_loss: 5.8085e-04 - val_mae: 0.0182 - learning_rate: 5.0000e-04\n",
      "Epoch 25/200\n",
      "242/242 - 3s - 11ms/step - loss: 0.0128 - mae: 0.0848 - val_loss: 0.0013 - val_mae: 0.0279 - learning_rate: 5.0000e-04\n",
      "Epoch 26/200\n",
      "242/242 - 3s - 11ms/step - loss: 0.0128 - mae: 0.0845 - val_loss: 9.8350e-04 - val_mae: 0.0247 - learning_rate: 5.0000e-04\n",
      "Epoch 27/200\n",
      "242/242 - 3s - 11ms/step - loss: 0.0126 - mae: 0.0840 - val_loss: 8.6033e-04 - val_mae: 0.0222 - learning_rate: 5.0000e-04\n",
      "Epoch 28/200\n",
      "242/242 - 3s - 11ms/step - loss: 0.0124 - mae: 0.0831 - val_loss: 8.4520e-04 - val_mae: 0.0220 - learning_rate: 5.0000e-04\n",
      "Epoch 29/200\n"
     ]
    },
    {
     "name": "stderr",
     "output_type": "stream",
     "text": [
      "WARNING:absl:You are saving your model as an HDF5 file via `model.save()` or `keras.saving.save_model(model)`. This file format is considered legacy. We recommend using instead the native Keras format, e.g. `model.save('my_model.keras')` or `keras.saving.save_model(model, 'my_model.keras')`. \n"
     ]
    },
    {
     "name": "stdout",
     "output_type": "stream",
     "text": [
      "242/242 - 3s - 14ms/step - loss: 0.0122 - mae: 0.0825 - val_loss: 4.8582e-04 - val_mae: 0.0168 - learning_rate: 5.0000e-04\n",
      "Epoch 30/200\n",
      "242/242 - 3s - 11ms/step - loss: 0.0123 - mae: 0.0831 - val_loss: 6.4262e-04 - val_mae: 0.0183 - learning_rate: 5.0000e-04\n",
      "Epoch 31/200\n",
      "242/242 - 3s - 12ms/step - loss: 0.0120 - mae: 0.0816 - val_loss: 5.1321e-04 - val_mae: 0.0161 - learning_rate: 2.5000e-04\n",
      "Epoch 32/200\n"
     ]
    },
    {
     "name": "stderr",
     "output_type": "stream",
     "text": [
      "WARNING:absl:You are saving your model as an HDF5 file via `model.save()` or `keras.saving.save_model(model)`. This file format is considered legacy. We recommend using instead the native Keras format, e.g. `model.save('my_model.keras')` or `keras.saving.save_model(model, 'my_model.keras')`. \n"
     ]
    },
    {
     "name": "stdout",
     "output_type": "stream",
     "text": [
      "242/242 - 3s - 11ms/step - loss: 0.0121 - mae: 0.0820 - val_loss: 3.1091e-04 - val_mae: 0.0131 - learning_rate: 2.5000e-04\n",
      "Epoch 33/200\n",
      "242/242 - 7s - 27ms/step - loss: 0.0119 - mae: 0.0815 - val_loss: 4.5569e-04 - val_mae: 0.0158 - learning_rate: 2.5000e-04\n",
      "Epoch 34/200\n",
      "242/242 - 4s - 18ms/step - loss: 0.0120 - mae: 0.0817 - val_loss: 3.6764e-04 - val_mae: 0.0137 - learning_rate: 2.5000e-04\n",
      "Epoch 35/200\n",
      "242/242 - 4s - 16ms/step - loss: 0.0118 - mae: 0.0806 - val_loss: 7.2768e-04 - val_mae: 0.0198 - learning_rate: 2.5000e-04\n",
      "Epoch 36/200\n",
      "242/242 - 3s - 11ms/step - loss: 0.0117 - mae: 0.0806 - val_loss: 4.7362e-04 - val_mae: 0.0161 - learning_rate: 2.5000e-04\n",
      "Epoch 37/200\n",
      "242/242 - 3s - 11ms/step - loss: 0.0118 - mae: 0.0810 - val_loss: 9.1385e-04 - val_mae: 0.0236 - learning_rate: 2.5000e-04\n",
      "Epoch 38/200\n",
      "242/242 - 3s - 12ms/step - loss: 0.0118 - mae: 0.0811 - val_loss: 3.1596e-04 - val_mae: 0.0131 - learning_rate: 2.5000e-04\n",
      "Epoch 39/200\n",
      "242/242 - 3s - 13ms/step - loss: 0.0116 - mae: 0.0800 - val_loss: 4.4134e-04 - val_mae: 0.0155 - learning_rate: 2.5000e-04\n",
      "Epoch 40/200\n",
      "242/242 - 3s - 12ms/step - loss: 0.0115 - mae: 0.0804 - val_loss: 3.5816e-04 - val_mae: 0.0145 - learning_rate: 2.5000e-04\n",
      "Epoch 41/200\n",
      "242/242 - 3s - 11ms/step - loss: 0.0115 - mae: 0.0799 - val_loss: 4.2544e-04 - val_mae: 0.0145 - learning_rate: 2.5000e-04\n",
      "Epoch 42/200\n",
      "242/242 - 3s - 14ms/step - loss: 0.0115 - mae: 0.0800 - val_loss: 6.0781e-04 - val_mae: 0.0175 - learning_rate: 2.5000e-04\n",
      "Epoch 43/200\n",
      "242/242 - 3s - 12ms/step - loss: 0.0114 - mae: 0.0793 - val_loss: 8.1967e-04 - val_mae: 0.0219 - learning_rate: 1.2500e-04\n",
      "Epoch 44/200\n"
     ]
    },
    {
     "name": "stderr",
     "output_type": "stream",
     "text": [
      "WARNING:absl:You are saving your model as an HDF5 file via `model.save()` or `keras.saving.save_model(model)`. This file format is considered legacy. We recommend using instead the native Keras format, e.g. `model.save('my_model.keras')` or `keras.saving.save_model(model, 'my_model.keras')`. \n"
     ]
    },
    {
     "name": "stdout",
     "output_type": "stream",
     "text": [
      "242/242 - 3s - 12ms/step - loss: 0.0113 - mae: 0.0790 - val_loss: 3.0942e-04 - val_mae: 0.0127 - learning_rate: 1.2500e-04\n",
      "Epoch 45/200\n",
      "242/242 - 3s - 12ms/step - loss: 0.0111 - mae: 0.0784 - val_loss: 3.6423e-04 - val_mae: 0.0139 - learning_rate: 1.2500e-04\n",
      "Epoch 46/200\n",
      "242/242 - 3s - 11ms/step - loss: 0.0113 - mae: 0.0792 - val_loss: 5.1352e-04 - val_mae: 0.0165 - learning_rate: 1.2500e-04\n",
      "Epoch 47/200\n",
      "242/242 - 3s - 14ms/step - loss: 0.0113 - mae: 0.0791 - val_loss: 3.2671e-04 - val_mae: 0.0130 - learning_rate: 1.2500e-04\n",
      "Epoch 48/200\n",
      "242/242 - 3s - 10ms/step - loss: 0.0114 - mae: 0.0797 - val_loss: 3.2035e-04 - val_mae: 0.0127 - learning_rate: 1.2500e-04\n",
      "Epoch 49/200\n",
      "242/242 - 4s - 15ms/step - loss: 0.0112 - mae: 0.0788 - val_loss: 3.9690e-04 - val_mae: 0.0146 - learning_rate: 1.2500e-04\n",
      "Epoch 50/200\n"
     ]
    },
    {
     "name": "stderr",
     "output_type": "stream",
     "text": [
      "WARNING:absl:You are saving your model as an HDF5 file via `model.save()` or `keras.saving.save_model(model)`. This file format is considered legacy. We recommend using instead the native Keras format, e.g. `model.save('my_model.keras')` or `keras.saving.save_model(model, 'my_model.keras')`. \n"
     ]
    },
    {
     "name": "stdout",
     "output_type": "stream",
     "text": [
      "242/242 - 3s - 12ms/step - loss: 0.0112 - mae: 0.0785 - val_loss: 2.6215e-04 - val_mae: 0.0117 - learning_rate: 1.2500e-04\n",
      "Epoch 51/200\n",
      "242/242 - 3s - 12ms/step - loss: 0.0109 - mae: 0.0772 - val_loss: 4.1005e-04 - val_mae: 0.0142 - learning_rate: 1.2500e-04\n",
      "Epoch 52/200\n",
      "242/242 - 3s - 12ms/step - loss: 0.0114 - mae: 0.0799 - val_loss: 2.7730e-04 - val_mae: 0.0122 - learning_rate: 1.2500e-04\n",
      "Epoch 53/200\n",
      "242/242 - 3s - 11ms/step - loss: 0.0113 - mae: 0.0792 - val_loss: 3.3648e-04 - val_mae: 0.0128 - learning_rate: 6.2500e-05\n",
      "Epoch 54/200\n",
      "242/242 - 3s - 11ms/step - loss: 0.0112 - mae: 0.0786 - val_loss: 4.3144e-04 - val_mae: 0.0154 - learning_rate: 6.2500e-05\n",
      "Epoch 55/200\n",
      "242/242 - 3s - 12ms/step - loss: 0.0108 - mae: 0.0771 - val_loss: 4.1947e-04 - val_mae: 0.0148 - learning_rate: 6.2500e-05\n",
      "Epoch 56/200\n",
      "242/242 - 2s - 10ms/step - loss: 0.0112 - mae: 0.0790 - val_loss: 3.9302e-04 - val_mae: 0.0140 - learning_rate: 6.2500e-05\n",
      "Epoch 57/200\n",
      "242/242 - 3s - 11ms/step - loss: 0.0114 - mae: 0.0799 - val_loss: 3.1206e-04 - val_mae: 0.0127 - learning_rate: 6.2500e-05\n",
      "Epoch 58/200\n",
      "242/242 - 2s - 10ms/step - loss: 0.0111 - mae: 0.0784 - val_loss: 4.1549e-04 - val_mae: 0.0151 - learning_rate: 6.2500e-05\n",
      "Epoch 59/200\n",
      "242/242 - 3s - 11ms/step - loss: 0.0111 - mae: 0.0786 - val_loss: 3.4371e-04 - val_mae: 0.0134 - learning_rate: 6.2500e-05\n",
      "Epoch 60/200\n",
      "242/242 - 3s - 11ms/step - loss: 0.0111 - mae: 0.0783 - val_loss: 2.9657e-04 - val_mae: 0.0123 - learning_rate: 6.2500e-05\n",
      "Epoch 61/200\n",
      "242/242 - 3s - 13ms/step - loss: 0.0110 - mae: 0.0778 - val_loss: 3.4550e-04 - val_mae: 0.0133 - learning_rate: 6.2500e-05\n",
      "Epoch 62/200\n",
      "242/242 - 3s - 13ms/step - loss: 0.0110 - mae: 0.0782 - val_loss: 2.8092e-04 - val_mae: 0.0119 - learning_rate: 6.2500e-05\n",
      "Epoch 63/200\n",
      "242/242 - 3s - 13ms/step - loss: 0.0111 - mae: 0.0787 - val_loss: 3.5149e-04 - val_mae: 0.0134 - learning_rate: 3.1250e-05\n",
      "Epoch 64/200\n",
      "242/242 - 3s - 13ms/step - loss: 0.0110 - mae: 0.0779 - val_loss: 3.5021e-04 - val_mae: 0.0131 - learning_rate: 3.1250e-05\n",
      "Epoch 65/200\n",
      "242/242 - 2s - 10ms/step - loss: 0.0110 - mae: 0.0778 - val_loss: 2.9680e-04 - val_mae: 0.0122 - learning_rate: 3.1250e-05\n",
      "Epoch 66/200\n",
      "242/242 - 3s - 12ms/step - loss: 0.0110 - mae: 0.0785 - val_loss: 3.3594e-04 - val_mae: 0.0130 - learning_rate: 3.1250e-05\n",
      "Epoch 67/200\n",
      "242/242 - 3s - 11ms/step - loss: 0.0111 - mae: 0.0786 - val_loss: 3.3610e-04 - val_mae: 0.0131 - learning_rate: 3.1250e-05\n",
      "Epoch 68/200\n",
      "242/242 - 3s - 11ms/step - loss: 0.0111 - mae: 0.0790 - val_loss: 3.3239e-04 - val_mae: 0.0130 - learning_rate: 3.1250e-05\n",
      "Epoch 69/200\n",
      "242/242 - 2s - 9ms/step - loss: 0.0109 - mae: 0.0774 - val_loss: 3.0574e-04 - val_mae: 0.0124 - learning_rate: 3.1250e-05\n",
      "Epoch 70/200\n",
      "242/242 - 2s - 10ms/step - loss: 0.0110 - mae: 0.0785 - val_loss: 3.2643e-04 - val_mae: 0.0127 - learning_rate: 3.1250e-05\n",
      "\u001b[1m1935/1935\u001b[0m \u001b[32m━━━━━━━━━━━━━━━━━━━━\u001b[0m\u001b[37m\u001b[0m \u001b[1m5s\u001b[0m 3ms/step\n"
     ]
    },
    {
     "name": "stderr",
     "output_type": "stream",
     "text": [
      "WARNING:absl:You are saving your model as an HDF5 file via `model.save()` or `keras.saving.save_model(model)`. This file format is considered legacy. We recommend using instead the native Keras format, e.g. `model.save('my_model.keras')` or `keras.saving.save_model(model, 'my_model.keras')`. \n"
     ]
    },
    {
     "name": "stdout",
     "output_type": "stream",
     "text": [
      "\n",
      "Test MSE: 0.1235   Test R²: 0.9997\n"
     ]
    }
   ],
   "source": [
    "# ─── 0. Imports ───────────────────────────────────────────────────────────────\n",
    "import numpy as np\n",
    "import pandas as pd\n",
    "import joblib\n",
    "\n",
    "from sklearn.preprocessing import StandardScaler\n",
    "from sklearn.model_selection import train_test_split\n",
    "from sklearn.metrics import mean_squared_error, r2_score\n",
    "\n",
    "import tensorflow as tf\n",
    "from tensorflow.keras import Sequential\n",
    "from tensorflow.keras.layers import Dense, LeakyReLU, BatchNormalization, Dropout\n",
    "from tensorflow.keras.callbacks import EarlyStopping, ReduceLROnPlateau, ModelCheckpoint\n",
    "\n",
    "# ─── 1. Load & One-Hot Encode ────────────────────────────────────────────────\n",
    "file_path = r\"C:\\Users\\ayush\\OneDrive\\Desktop\\bphc\\Year 3 Sem 2\\DOP\\Lab Work\\Models\\Outside Only\\Final DataSet\\MLP Keras Version FInal DataSet Ver1\\Final DataSet Combined 95percent for Model Training.xlsx\"\n",
    "df = pd.read_excel(file_path)\n",
    "\n",
    "# one-hot encode the four angle categories\n",
    "df = pd.get_dummies(df, columns=['Angle'], prefix='Angle')\n",
    "\n",
    "# ─── 2. Build feature & target arrays ────────────────────────────────────────\n",
    "cont_cols = ['X','Y','Z','Normal_X','Normal_Y','Normal_Z']\n",
    "cat_cols  = ['Angle_40','Angle_50','Angle_60','Angle_70']\n",
    "features = cont_cols + cat_cols\n",
    "\n",
    "X_raw = df[features].values.astype(float)\n",
    "y_raw = df['Z Scan'].values.reshape(-1,1).astype(float)\n",
    "\n",
    "# ─── 3. Scale continuous inputs & target ─────────────────────────────────────\n",
    "scaler_X = StandardScaler()\n",
    "X_cont = scaler_X.fit_transform(df[cont_cols])\n",
    "X = np.hstack([X_cont, df[cat_cols].values])\n",
    "\n",
    "scaler_y = StandardScaler()\n",
    "y = scaler_y.fit_transform(y_raw)\n",
    "\n",
    "# save scalers for later inverse-transform\n",
    "joblib.dump(scaler_X, 'scaler_X_zscan.pkl')\n",
    "joblib.dump(scaler_y, 'scaler_y_zscan.pkl')\n",
    "\n",
    "# ─── 4. Train/Test Split ─────────────────────────────────────────────────────\n",
    "X_train, X_test, y_train, y_test = train_test_split(\n",
    "    X, y, test_size=0.20, random_state=42\n",
    ")\n",
    "\n",
    "# ─── 5. Define Keras Model ───────────────────────────────────────────────────\n",
    "model = Sequential([\n",
    "    Dense(64, input_shape=(X_train.shape[1],)),\n",
    "    LeakyReLU(alpha=0.1),\n",
    "    BatchNormalization(),\n",
    "    Dropout(0.1),\n",
    "\n",
    "    Dense(32),\n",
    "    LeakyReLU(alpha=0.1),\n",
    "    BatchNormalization(),\n",
    "    Dropout(0.1),\n",
    "\n",
    "    Dense(16),\n",
    "    LeakyReLU(alpha=0.1),\n",
    "    BatchNormalization(),\n",
    "    Dropout(0.1),\n",
    "\n",
    "    Dense(1, activation='linear')\n",
    "])\n",
    "\n",
    "model.compile(\n",
    "    optimizer='adam',\n",
    "    loss='mse',\n",
    "    metrics=['mae']\n",
    ")\n",
    "\n",
    "model.summary()\n",
    "\n",
    "# ─── 6. Callbacks ─────────────────────────────────────────────────────────────\n",
    "callbacks = [\n",
    "    EarlyStopping(\n",
    "        monitor='val_loss',\n",
    "        patience=20,\n",
    "        restore_best_weights=True\n",
    "    ),\n",
    "    ReduceLROnPlateau(\n",
    "        monitor='val_loss',\n",
    "        factor=0.5,\n",
    "        patience=10,\n",
    "        min_lr=1e-6\n",
    "    ),\n",
    "    ModelCheckpoint(\n",
    "        'best_deep_mlp_zscan.h5',\n",
    "        monitor='val_loss',\n",
    "        save_best_only=True\n",
    "    )\n",
    "]\n",
    "\n",
    "# ─── 7. Train ─────────────────────────────────────────────────────────────────\n",
    "history = model.fit(\n",
    "    X_train, y_train,\n",
    "    validation_data=(X_test, y_test),\n",
    "    epochs=200,\n",
    "    batch_size=1024,\n",
    "    callbacks=callbacks,\n",
    "    verbose=2\n",
    ")\n",
    "\n",
    "# ─── 8. Evaluate on Test Set ─────────────────────────────────────────────────\n",
    "y_pred_scaled = model.predict(X_test)\n",
    "y_pred = scaler_y.inverse_transform(y_pred_scaled)\n",
    "y_true = scaler_y.inverse_transform(y_test)\n",
    "\n",
    "mse_test = mean_squared_error(y_true, y_pred)\n",
    "r2_test  = r2_score(y_true, y_pred)\n",
    "print(f\"\\nTest MSE: {mse_test:.4f}   Test R²: {r2_test:.4f}\")\n",
    "\n",
    "# ─── 9. Save Final Model ──────────────────────────────────────────────────────\n",
    "model.save('final_deep_mlp_zscan_keras.h5')\n"
   ]
  },
  {
   "cell_type": "code",
   "execution_count": 3,
   "id": "f9379b27-eb60-4674-98be-4d453335a901",
   "metadata": {},
   "outputs": [
    {
     "name": "stdout",
     "output_type": "stream",
     "text": [
      "\u001b[1m510/510\u001b[0m \u001b[32m━━━━━━━━━━━━━━━━━━━━\u001b[0m\u001b[37m\u001b[0m \u001b[1m2s\u001b[0m 3ms/step\n",
      "✅ Done — comparison saved to:\n",
      "   C:\\Users\\ayush\\OneDrive\\Desktop\\bphc\\Year 3 Sem 2\\DOP\\Lab Work\\Models\\Outside Only\\Final DataSet\\MLP Keras Version FInal DataSet Ver1\\MLP Keras Ver1 Results.xlsx\n"
     ]
    }
   ],
   "source": [
    "import numpy as np\n",
    "import pandas as pd\n",
    "import joblib\n",
    "from tensorflow.keras.models import load_model\n",
    "\n",
    "# ─── File paths ───────────────────────────────────────────────────────────────\n",
    "excel1_path = r\"C:\\Users\\ayush\\OneDrive\\Desktop\\bphc\\Year 3 Sem 2\\DOP\\Lab Work\\Models\\Outside Only\\Final DataSet\\MLP Keras Version FInal DataSet Ver1\\Final DataSet Cross Validation 5percent Data without Z scan.xlsx\"\n",
    "excel2_path = r\"C:\\Users\\ayush\\OneDrive\\Desktop\\bphc\\Year 3 Sem 2\\DOP\\Lab Work\\Models\\Outside Only\\Final DataSet\\MLP Keras Version FInal DataSet Ver1\\Final DataSet Cross Validation 5percent Data with Z scan.xlsx\"\n",
    "excel3_path = r\"C:\\Users\\ayush\\OneDrive\\Desktop\\bphc\\Year 3 Sem 2\\DOP\\Lab Work\\Models\\Outside Only\\Final DataSet\\MLP Keras Version FInal DataSet Ver1\\MLP Keras Ver1 Results.xlsx\"\n",
    "\n",
    "model_path    = \"final_deep_mlp_zscan_keras.h5\"  # or your best_deep_mlp_zscan.h5\n",
    "scalerX_path  = \"scaler_X_zscan.pkl\"\n",
    "scalerY_path  = \"scaler_y_zscan.pkl\"\n",
    "\n",
    "# ─── Load model & scalers ─────────────────────────────────────────────────────\n",
    "from tensorflow.keras.models import load_model\n",
    "model = load_model(model_path, compile=False)\n",
    "\n",
    "scaler_X = joblib.load(scalerX_path)\n",
    "scaler_y = joblib.load(scalerY_path)\n",
    "\n",
    "# ─── Read the two Excels ──────────────────────────────────────────────────────\n",
    "df1 = pd.read_excel(excel1_path)\n",
    "df2 = pd.read_excel(excel2_path)\n",
    "\n",
    "# ─── Prepare features exactly as in training ─────────────────────────────────\n",
    "cont_cols = ['X','Y','Z','Normal_X','Normal_Y','Normal_Z']\n",
    "cat_cols  = ['Angle_40','Angle_50','Angle_60','Angle_70']\n",
    "\n",
    "# 1) One-hot encode the Angle column\n",
    "df_feat = pd.get_dummies(df1, columns=['Angle'], prefix='Angle')\n",
    "\n",
    "# 2) Ensure all four Angle_[…] columns are present\n",
    "for c in cat_cols:\n",
    "    if c not in df_feat:\n",
    "        df_feat[c] = 0\n",
    "\n",
    "# 3) Scale continuous features\n",
    "X_cont = scaler_X.transform(df_feat[cont_cols])\n",
    "\n",
    "# 4) Stack one-hot columns\n",
    "X_cat  = df_feat[cat_cols].values\n",
    "X      = np.hstack([X_cont, X_cat])\n",
    "\n",
    "# ─── Predict & inverse-scale ──────────────────────────────────────────────────\n",
    "y_pred_scaled = model.predict(X)                  # shape (n,1)\n",
    "y_pred        = scaler_y.inverse_transform(y_pred_scaled).flatten()\n",
    "\n",
    "# ─── Build result DataFrame ──────────────────────────────────────────────────\n",
    "df_out = df1.copy()\n",
    "df_out['Z Scan (Predicted)'] = y_pred\n",
    "df_out['Delta Z (Predicted)'] = df_out['Z'] - df_out['Z Scan (Predicted)']\n",
    "\n",
    "# bring in the true values\n",
    "df_out['Z Scan (True)']   = df2['Z Scan'].values\n",
    "df_out['Delta Z (True)']  = df2['Delta Z'].values\n",
    "\n",
    "# error between true vs pred\n",
    "df_out['Z Scan Error']    = df_out['Z Scan (True)'] - df_out['Z Scan (Predicted)']\n",
    "\n",
    "# ─── Save to new Excel ────────────────────────────────────────────────────────\n",
    "df_out.to_excel(excel3_path, index=False)\n",
    "print(f\"✅ Done — comparison saved to:\\n   {excel3_path}\")\n"
   ]
  },
  {
   "cell_type": "code",
   "execution_count": 4,
   "id": "0bc2289f-54f2-4098-875d-5fc7b945eadd",
   "metadata": {},
   "outputs": [
    {
     "name": "stdout",
     "output_type": "stream",
     "text": [
      "\u001b[1m2976/2976\u001b[0m \u001b[32m━━━━━━━━━━━━━━━━━━━━\u001b[0m\u001b[37m\u001b[0m \u001b[1m7s\u001b[0m 2ms/step\n",
      "✅ Done!  Predictions written to:\n",
      "   C:\\Users\\ayush\\OneDrive\\Desktop\\bphc\\Year 3 Sem 2\\DOP\\Lab Work\\Models\\Outside Only\\Final DataSet\\MLP Keras Version FInal DataSet Ver1\\Cone 65\\Cone 65 Keras Result.xlsx\n"
     ]
    }
   ],
   "source": [
    "# ─── 1. Imports ────────────────────────────────────────────────────────────────\n",
    "import numpy as np\n",
    "import pandas as pd\n",
    "import joblib\n",
    "from tensorflow.keras.models import load_model\n",
    "\n",
    "# ─── 2. Prompt for file paths ─────────────────────────────────────────────────\n",
    "input_path  = r\"C:\\Users\\ayush\\OneDrive\\Desktop\\bphc\\Year 3 Sem 2\\DOP\\Lab Work\\Models\\Outside Only\\Final DataSet\\MLP Keras Version FInal DataSet Ver1\\Cone 65\\Cone 65 Outer Vertices and Normal Coordinates.xlsx\"\n",
    "output_path = r\"C:\\Users\\ayush\\OneDrive\\Desktop\\bphc\\Year 3 Sem 2\\DOP\\Lab Work\\Models\\Outside Only\\Final DataSet\\MLP Keras Version FInal DataSet Ver1\\Cone 65\\Cone 65 Keras Result.xlsx\"\n",
    "\n",
    "# ─── 3. Load your trained Keras model & scalers ───────────────────────────────\n",
    "#   (change these names if yours differ)\n",
    "model       = load_model('final_deep_mlp_zscan_keras.h5', compile=False)\n",
    "scaler_X    = joblib.load('scaler_X_zscan.pkl')\n",
    "scaler_y    = joblib.load('scaler_y_zscan.pkl')\n",
    "\n",
    "# ─── 4. Read the input sheet ───────────────────────────────────────────────────\n",
    "df = pd.read_excel(input_path)\n",
    "\n",
    "# ─── 5. One-hot encode Angle exactly as in training ────────────────────────────\n",
    "# training had four dummies: Angle_40,50,60,70\n",
    "cat_cols = ['Angle_40','Angle_50','Angle_60','Angle_70']\n",
    "df_enc   = pd.get_dummies(df, columns=['Angle'], prefix='Angle')\n",
    "\n",
    "# ensure all four columns exist (any new angle → all zeros)\n",
    "for c in cat_cols:\n",
    "    if c not in df_enc:\n",
    "        df_enc[c] = 0\n",
    "\n",
    "# ─── 6. Scale & assemble your feature matrix ─────────────────────────────────\n",
    "cont_cols = ['X','Y','Z','Normal_X','Normal_Y','Normal_Z']\n",
    "\n",
    "X_cont = scaler_X.transform(df_enc[cont_cols])\n",
    "X_cat  = df_enc[cat_cols].values\n",
    "X_all  = np.hstack([X_cont, X_cat])\n",
    "\n",
    "# ─── 7. Predict & invert the y-scale ─────────────────────────────────────────\n",
    "y_pred_scaled = model.predict(X_all)\n",
    "y_pred         = scaler_y.inverse_transform(y_pred_scaled).flatten()\n",
    "\n",
    "# ─── 8. Append the predictions & save ─────────────────────────────────────────\n",
    "df['Z Scan (Predicted)'] = y_pred\n",
    "df.to_excel(output_path, index=False)\n",
    "\n",
    "print(f\"✅ Done!  Predictions written to:\\n   {output_path}\")\n"
   ]
  },
  {
   "cell_type": "code",
   "execution_count": 12,
   "id": "004a6bf7-61ef-4082-89f4-33634e80221d",
   "metadata": {},
   "outputs": [
    {
     "name": "stdin",
     "output_type": "stream",
     "text": [
      "Enter X:  1\n",
      "Enter Y:  1\n",
      "Enter Z:  11\n",
      "Enter Normal_X:  1\n",
      "Enter Normal_Y:  1\n",
      "Enter Normal_Z:  1\n",
      "Enter Angle (40, 50, 60, or 70):  23\n"
     ]
    },
    {
     "name": "stdout",
     "output_type": "stream",
     "text": [
      "\u001b[1m1/1\u001b[0m \u001b[32m━━━━━━━━━━━━━━━━━━━━\u001b[0m\u001b[37m\u001b[0m \u001b[1m0s\u001b[0m 69ms/step\n",
      "\n",
      "Predicted Z Scan = 4.0171\n"
     ]
    },
    {
     "name": "stderr",
     "output_type": "stream",
     "text": [
      "C:\\Users\\ayush\\anaconda3\\envs\\tf310\\lib\\site-packages\\sklearn\\utils\\validation.py:2739: UserWarning: X does not have valid feature names, but StandardScaler was fitted with feature names\n",
      "  warnings.warn(\n"
     ]
    }
   ],
   "source": [
    "import numpy as np\n",
    "import joblib\n",
    "from tensorflow.keras.models import load_model\n",
    "\n",
    "# 1) Load model & scalers\n",
    "model = load_model('final_deep_mlp_zscan_keras.h5', compile=False)\n",
    "scaler_X = joblib.load('scaler_X_zscan.pkl')\n",
    "scaler_y = joblib.load('scaler_y_zscan.pkl')\n",
    "\n",
    "# 2) Define possible angles for one‐hot encoding\n",
    "angles = [40, 50, 60, 70]\n",
    "\n",
    "# 3) Prompt user for inputs\n",
    "x = float(input(\"Enter X: \"))\n",
    "y = float(input(\"Enter Y: \"))\n",
    "z = float(input(\"Enter Z: \"))\n",
    "nx = float(input(\"Enter Normal_X: \"))\n",
    "ny = float(input(\"Enter Normal_Y: \"))\n",
    "nz = float(input(\"Enter Normal_Z: \"))\n",
    "angle_input = int(input(\"Enter Angle (40, 50, 60, or 70): \"))\n",
    "\n",
    "# 4) Build and scale the continuous part\n",
    "X_cont = np.array([[x, y, z, nx, ny, nz]])         # shape (1,6)\n",
    "X_scaled = scaler_X.transform(X_cont)              # shape (1,6)\n",
    "\n",
    "# 5) Create one‐hot encoding and shape it as a row\n",
    "ohe = np.array([[1 if angle_input == a else 0 for a in angles]])  # shape (1,4)\n",
    "\n",
    "# 6) Concatenate to form the final feature vector\n",
    "X_final = np.hstack([X_scaled, ohe])               # shape (1,10)\n",
    "\n",
    "# 7) Predict and invert the target scaling\n",
    "y_pred_scaled = model.predict(X_final)             # shape (1,1)\n",
    "y_pred = scaler_y.inverse_transform(y_pred_scaled)[0,0]\n",
    "\n",
    "# 8) Display result\n",
    "print(f\"\\nPredicted Z Scan = {y_pred:.4f}\")\n"
   ]
  },
  {
   "cell_type": "code",
   "execution_count": null,
   "id": "f13cfcd3-3be3-4976-aef9-78434edf6204",
   "metadata": {},
   "outputs": [],
   "source": []
  }
 ],
 "metadata": {
  "kernelspec": {
   "display_name": "Python (tf310)",
   "language": "python",
   "name": "tf310"
  },
  "language_info": {
   "codemirror_mode": {
    "name": "ipython",
    "version": 3
   },
   "file_extension": ".py",
   "mimetype": "text/x-python",
   "name": "python",
   "nbconvert_exporter": "python",
   "pygments_lexer": "ipython3",
   "version": "3.10.16"
  }
 },
 "nbformat": 4,
 "nbformat_minor": 5
}
