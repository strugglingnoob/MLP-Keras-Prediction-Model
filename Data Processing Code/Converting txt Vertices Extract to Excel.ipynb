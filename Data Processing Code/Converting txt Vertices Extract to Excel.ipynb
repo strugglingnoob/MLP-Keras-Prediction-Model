{
 "cells": [
  {
   "cell_type": "code",
   "execution_count": null,
   "id": "8e347bf5-c588-4ac5-beeb-d6e2b5c4a238",
   "metadata": {},
   "outputs": [],
   "source": [
    "import pandas as pd\n",
    "\n",
    "def txt_to_excel(txt_path, excel_path):\n",
    "    data = []\n",
    "\n",
    "    with open(txt_path, 'r') as file:\n",
    "        lines = file.readlines()[2:]  \n",
    "\n",
    "        for line in lines:\n",
    "            parts = line.strip().split(';')\n",
    "            if len(parts) == 3:\n",
    "                try:\n",
    "                    x, y, z = map(float, parts)\n",
    "                    data.append([x, y, z])\n",
    "                except:\n",
    "                    continue  # Skip any line that can't be converted\n",
    "\n",
    "    df = pd.DataFrame(data, columns=['X', 'Y', 'Z'])\n",
    "\n",
    "    df.to_excel(excel_path, index=False)\n",
    "    print(f\"✅ Done: Saved {len(df)} rows to Excel.\")\n",
    "\n",
    "txt_to_excel(\n",
    "    txt_path=r\"CAD Vertices Extract from CLoud Compare.txt\",\n",
    "    excel_path=r\"CAD Vertices in Excel Format.xlsx\"\n",
    ")"
   ]
  }
 ],
 "metadata": {
  "kernelspec": {
   "display_name": "Python [conda env:base] *",
   "language": "python",
   "name": "conda-base-py"
  },
  "language_info": {
   "codemirror_mode": {
    "name": "ipython",
    "version": 3
   },
   "file_extension": ".py",
   "mimetype": "text/x-python",
   "name": "python",
   "nbconvert_exporter": "python",
   "pygments_lexer": "ipython3",
   "version": "3.12.4"
  }
 },
 "nbformat": 4,
 "nbformat_minor": 5
}
