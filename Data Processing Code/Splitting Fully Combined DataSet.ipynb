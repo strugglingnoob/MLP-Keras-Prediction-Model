{
 "cells": [
  {
   "cell_type": "code",
   "execution_count": null,
   "id": "082222cf-ab67-4b09-922c-bcfa6b24e7b8",
   "metadata": {},
   "outputs": [],
   "source": [
    "import pandas as pd\n",
    "import numpy as np\n",
    "\n",
    "excel1_path = r\"Fully Combined Excel for CAD Models of all the Wall Angles.xlsx\"\n",
    "excel2_path = r\"Excel which is 95% of Fully Combined Excel for MLP Training.xlsx\"\n",
    "excel3_path = r\"Excel which has Remaining 5% Choosen Equally from all the Wall Angle Values with Z scan.xlsx\"\n",
    "excel4_path = r\"Excel which has Remaining 5% Choosen Equally from all the Wall Angle Values without Z scan.xlsx\"\n",
    "\n",
    "df = pd.read_excel(excel1_path)\n",
    "\n",
    "np.random.seed(42)\n",
    "five_percent = df.groupby('Angle', group_keys=False).apply(\n",
    "    lambda g: g.sample(frac=0.05, random_state=42)\n",
    ")\n",
    "remaining = df.drop(five_percent.index).reset_index(drop=True)\n",
    "five_percent = five_percent.reset_index(drop=True)\n",
    "\n",
    "five_percent_no_zscan_deltaz = five_percent.drop(columns=['Z Scan', 'Delta Z'])\n",
    "\n",
    "remaining.to_excel(excel2_path, index=False)\n",
    "five_percent.to_excel(excel3_path, index=False)\n",
    "five_percent_no_zscan_deltaz.to_excel(excel4_path, index=False)\n",
    "\n",
    "print(\"✅ Processing Complete. Files have been saved successfully.\")"
   ]
  }
 ],
 "metadata": {
  "kernelspec": {
   "display_name": "Python [conda env:base] *",
   "language": "python",
   "name": "conda-base-py"
  },
  "language_info": {
   "codemirror_mode": {
    "name": "ipython",
    "version": 3
   },
   "file_extension": ".py",
   "mimetype": "text/x-python",
   "name": "python",
   "nbconvert_exporter": "python",
   "pygments_lexer": "ipython3",
   "version": "3.12.4"
  }
 },
 "nbformat": 4,
 "nbformat_minor": 5
}
