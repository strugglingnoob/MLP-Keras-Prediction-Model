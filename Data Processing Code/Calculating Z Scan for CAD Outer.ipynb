{
 "cells": [
  {
   "cell_type": "code",
   "execution_count": null,
   "id": "b58dc8fe-0d95-4f89-97b1-69939922e001",
   "metadata": {},
   "outputs": [],
   "source": [
    "import pandas as pd\n",
    "import numpy as np\n",
    "from scipy.spatial import cKDTree\n",
    "\n",
    "def compute_z_scan_and_delta(excel1_path, excel2_path, output_excel_path):\n",
    "    df1 = pd.read_excel(excel1_path)\n",
    "    df2 = pd.read_excel(excel2_path)\n",
    "    cad_points = df1[['X', 'Y', 'Z']].to_numpy()\n",
    "    scan_points = df2[['X', 'Y', 'Z']].to_numpy()\n",
    "    tree = cKDTree(scan_points)\n",
    "    results = []\n",
    "    for x_cad, y_cad, z_cad in cad_points:\n",
    "        _, idx = tree.query([x_cad, y_cad, z_cad])\n",
    "        z_scan = scan_points[idx, 2]\n",
    "        delta_z = z_cad - z_scan\n",
    "        results.append([x_cad, y_cad, z_cad, z_scan, delta_z])\n",
    "    results_df = pd.DataFrame(results, columns=['X', 'Y', 'Z', 'Z Scan', 'Delta Z'])\n",
    "    results_df.to_excel(output_excel_path, index=False)\n",
    "    print(f\"✅ Done. Saved {len(results_df)} points to: {output_excel_path}\")\n",
    "\n",
    "if __name__ == \"__main__\":\n",
    "    excel1_path = r\"Excel File Containing CAD Vertices(Outer).xlsx\"\n",
    "    excel2_path = r\"Excel File Containing Scan Vertices.xlsx\"\n",
    "    output_excel_path = r\"Excel File Containing CAD Vertices(Outer) + Z Scan Values\"\n",
    "    compute_z_scan_and_delta(excel1_path, excel2_path, output_excel_path)\n"
   ]
  }
 ],
 "metadata": {
  "kernelspec": {
   "display_name": "Python [conda env:base] *",
   "language": "python",
   "name": "conda-base-py"
  },
  "language_info": {
   "codemirror_mode": {
    "name": "ipython",
    "version": 3
   },
   "file_extension": ".py",
   "mimetype": "text/x-python",
   "name": "python",
   "nbconvert_exporter": "python",
   "pygments_lexer": "ipython3",
   "version": "3.12.4"
  }
 },
 "nbformat": 4,
 "nbformat_minor": 5
}
