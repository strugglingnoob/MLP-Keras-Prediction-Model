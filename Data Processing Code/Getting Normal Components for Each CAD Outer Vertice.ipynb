{
 "cells": [
  {
   "cell_type": "code",
   "execution_count": null,
   "id": "742b614b-12a8-41f0-b806-0a901e4f526a",
   "metadata": {},
   "outputs": [],
   "source": [
    "import pandas as pd\n",
    "import numpy as np\n",
    "import re\n",
    "\n",
    "excel1_path = r\"Excel Containing CAD Vertices(Outer).xlsx\"   # <-- So this to your actual excel CAD(Outer) path\n",
    "xyz_points = pd.read_excel(excel1_path)\n",
    "\n",
    "notepad1_path = r\"Excel Containing CAD(Outer) stl file.stl\"  # <-- So this to your actual CAD(Outer) stl file path\n",
    "with open(notepad1_path, 'r') as file:\n",
    "    stl_content = file.read()\n",
    "\n",
    "normals = []\n",
    "triangles = []\n",
    "\n",
    "facet_blocks = stl_content.strip().split('facet normal')\n",
    "for block in facet_blocks[1:]:\n",
    "    lines = block.strip().split('\\n')\n",
    "    normal = list(map(float, lines[0].strip().split()))\n",
    "    vertices = []\n",
    "    for line in lines:\n",
    "        if line.strip().startswith('vertex'):\n",
    "            vertex = list(map(float, line.strip().split()[1:]))\n",
    "            vertices.append(vertex)\n",
    "    if len(vertices) == 3:\n",
    "        normals.append(normal)\n",
    "        triangles.append(vertices)\n",
    "\n",
    "normals = np.array(normals)\n",
    "triangles = np.array(triangles)\n"
   ]
  },
  {
   "cell_type": "code",
   "execution_count": null,
   "id": "c2a7e39f-4766-4aea-a847-d2c22cf26da0",
   "metadata": {},
   "outputs": [],
   "source": [
    "triangle_centroids = np.mean(triangles, axis=1)\n",
    "\n",
    "results = []\n",
    "\n",
    "for idx, point in xyz_points.iterrows():\n",
    "    point_coords = np.array([point['X'], point['Y'], point['Z']])\n",
    "    \n",
    "    distances = np.linalg.norm(triangle_centroids - point_coords, axis=1)\n",
    "    \n",
    "    closest_idx = np.argmin(distances)\n",
    "    \n",
    "    closest_normal = normals[closest_idx]\n",
    "    \n",
    "    results.append({\n",
    "        'X': point['X'],\n",
    "        'Y': point['Y'],\n",
    "        'Z': point['Z'],\n",
    "        'Normal_X': closest_normal[0],\n",
    "        'Normal_Y': closest_normal[1],\n",
    "        'Normal_Z': closest_normal[2]\n",
    "    })\n",
    "\n",
    "output_df = pd.DataFrame(results)"
   ]
  },
  {
   "cell_type": "code",
   "execution_count": null,
   "id": "928bee21-a414-4caf-82d7-7cdae3baa916",
   "metadata": {},
   "outputs": [],
   "source": [
    "excel3_path =r\"Excel Storing X,Y,Z and Normal Components at Each Point.xlsx\"  \n",
    "output_df.to_excel(excel3_path, index=False)\n",
    "\n",
    "print(f\"Output saved successfully at: {excel3_path}\")"
   ]
  }
 ],
 "metadata": {
  "kernelspec": {
   "display_name": "Python [conda env:base] *",
   "language": "python",
   "name": "conda-base-py"
  },
  "language_info": {
   "codemirror_mode": {
    "name": "ipython",
    "version": 3
   },
   "file_extension": ".py",
   "mimetype": "text/x-python",
   "name": "python",
   "nbconvert_exporter": "python",
   "pygments_lexer": "ipython3",
   "version": "3.12.4"
  }
 },
 "nbformat": 4,
 "nbformat_minor": 5
}
