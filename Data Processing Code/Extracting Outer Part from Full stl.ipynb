{
 "cells": [
  {
   "cell_type": "code",
   "execution_count": null,
   "id": "6a621c8b-ff3d-4f54-9a7b-6b1b7fe4571c",
   "metadata": {},
   "outputs": [],
   "source": [
    "def extract_and_filter_facets(input_path, output_path, z_threshold):\n",
    "    with open(input_path, 'r') as infile:\n",
    "        lines = infile.readlines()\n",
    "    output_header = None\n",
    "    filtered_facets = []\n",
    "    current_facet = []\n",
    "    record_facet = False\n",
    "    for line in lines:\n",
    "        stripped = line.strip()\n",
    "        if stripped.startswith(\"solid\") and output_header is None:\n",
    "            output_header = line\n",
    "            continue\n",
    "        if stripped.startswith(\"facet normal\"):\n",
    "            current_facet = [line]\n",
    "            parts = stripped.split()\n",
    "            try:\n",
    "                normal_z = float(parts[-1])\n",
    "                record_facet = (normal_z < 0.0)\n",
    "            except ValueError:\n",
    "                record_facet = False\n",
    "            continue\n",
    "        if current_facet is not None:\n",
    "            current_facet.append(line)\n",
    "            if stripped == \"endfacet\":\n",
    "                if record_facet:\n",
    "                    z_vals = []\n",
    "                    for facet_line in current_facet:\n",
    "                        if facet_line.strip().startswith(\"vertex\"):\n",
    "                            try:\n",
    "                                z_vals.append(float(facet_line.strip().split()[-1]))\n",
    "                            except ValueError:\n",
    "                                pass\n",
    "                    if z_vals and all(z <= z_threshold for z in z_vals):\n",
    "                        filtered_facets.extend(current_facet)\n",
    "                current_facet = []\n",
    "                record_facet = False\n",
    "    with open(output_path, 'w') as outfile:\n",
    "        outfile.write(output_header)\n",
    "        for facet_line in filtered_facets:\n",
    "            outfile.write(facet_line)\n",
    "        outfile.write(\"endsolid\\n\")\n",
    "    n_triangles = len(filtered_facets) // 7\n",
    "    print(f\"✅ Done: {n_triangles} facets with negative-Z normals and Z ≤ {z_threshold} saved to:\\n  {output_path}\")\n",
    "\n",
    "if __name__ == \"__main__\":\n",
    "    input_stl = r\"Put Path of CAD Full.stl\"\n",
    "    output_stl = r\"Put Path of CAD Outer.stl\"\n",
    "    threshold_value = 'Put height above which there should be no stl triangles'\n",
    "    extract_and_filter_facets(input_stl, output_stl, threshold_value)\n"
   ]
  }
 ],
 "metadata": {
  "kernelspec": {
   "display_name": "Python [conda env:base] *",
   "language": "python",
   "name": "conda-base-py"
  },
  "language_info": {
   "codemirror_mode": {
    "name": "ipython",
    "version": 3
   },
   "file_extension": ".py",
   "mimetype": "text/x-python",
   "name": "python",
   "nbconvert_exporter": "python",
   "pygments_lexer": "ipython3",
   "version": "3.12.4"
  }
 },
 "nbformat": 4,
 "nbformat_minor": 5
}
